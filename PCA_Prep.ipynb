{
 "cells": [
  {
   "cell_type": "code",
   "execution_count": 1,
   "metadata": {
    "collapsed": true
   },
   "outputs": [],
   "source": [
    "import cv2\n",
    "import os\n",
    "import numpy as np"
   ]
  },
  {
   "cell_type": "code",
   "execution_count": 2,
   "metadata": {
    "collapsed": false
   },
   "outputs": [],
   "source": [
    "dirname = 'lfwcrop_color/faces/'\n",
    "filenames = os.listdir(dirname)"
   ]
  },
  {
   "cell_type": "code",
   "execution_count": 8,
   "metadata": {
    "collapsed": true
   },
   "outputs": [],
   "source": [
    "def load_imgs(dirname, filenames):\n",
    "    imgs = []\n",
    "    for fname in filenames:\n",
    "        im = cv2.imread(dirname + fname)\n",
    "        im = cv2.cvtColor(im, cv2.COLOR_BGR2GRAY)\n",
    "        im = np.reshape(im, 64 * 64)\n",
    "        \n",
    "        imgs.append(im)\n",
    "    imgs = np.stack(imgs, axis = 0)\n",
    "    return imgs"
   ]
  },
  {
   "cell_type": "code",
   "execution_count": 56,
   "metadata": {
    "collapsed": false
   },
   "outputs": [],
   "source": [
    "from sklearn.cross_validation import train_test_split\n",
    "from random import shuffle\n",
    "\n",
    "shuffle(filenames)\n",
    "target_names = [' '.join(f.split('_')[:-1]) for f in filenames]\n",
    "\n",
    "class Counting(object):\n",
    "    n = 0\n",
    "    def factory():\n",
    "        Counting.n += 1\n",
    "        return Counting.n\n",
    "    factory = staticmethod(factory)\n",
    "\n",
    "from collections import defaultdict\n",
    "names_id = defaultdict(Counting.factory)\n",
    "\n",
    "y = [names_id[t] for t in target_names] "
   ]
  },
  {
   "cell_type": "code",
   "execution_count": 67,
   "metadata": {
    "collapsed": true
   },
   "outputs": [],
   "source": [
    "F_train, F_test, T_train, T_test = train_test_split(filenames, y, test_size=0.2)\n",
    "I_train = load_imgs(dirname, F_train)\n",
    "I_test = load_imgs(dirname, F_test)"
   ]
  },
  {
   "cell_type": "code",
   "execution_count": 68,
   "metadata": {
    "collapsed": true
   },
   "outputs": [],
   "source": [
    "def center(faces):\n",
    "    n_samples, n_features = faces.shape\n",
    "    # Center the faces\n",
    "    faces_centered = faces - faces.mean(axis=0)\n",
    "    faces_centered -= faces_centered.mean(axis=1).reshape(n_samples, -1)\n",
    "    return faces_centered\n",
    "\n",
    "faces_centered = center(I_train)"
   ]
  },
  {
   "cell_type": "markdown",
   "metadata": {},
   "source": [
    "# PCA"
   ]
  },
  {
   "cell_type": "code",
   "execution_count": 69,
   "metadata": {
    "collapsed": false
   },
   "outputs": [],
   "source": [
    "from sklearn.decomposition import PCA\n",
    "import numpy as np\n",
    "from matplotlib import pyplot as plt\n",
    "from mpl_toolkits.mplot3d import Axes3D   # 3D Plotting\n",
    "from scipy import stats\n",
    "import ipywidgets                         # interactions\n",
    "\n",
    "%matplotlib inline"
   ]
  },
  {
   "cell_type": "code",
   "execution_count": 70,
   "metadata": {
    "collapsed": true
   },
   "outputs": [],
   "source": [
    "n_components = 6"
   ]
  },
  {
   "cell_type": "code",
   "execution_count": 71,
   "metadata": {
    "collapsed": true
   },
   "outputs": [],
   "source": [
    "from sklearn import decomposition"
   ]
  },
  {
   "cell_type": "code",
   "execution_count": 72,
   "metadata": {
    "collapsed": false
   },
   "outputs": [
    {
     "data": {
      "text/plain": [
       "RandomizedPCA(copy=True, iterated_power=3, n_components=6, random_state=None,\n",
       "       whiten=True)"
      ]
     },
     "execution_count": 72,
     "metadata": {},
     "output_type": "execute_result"
    }
   ],
   "source": [
    "data = faces_centered\n",
    "# We use a variant of PCA called Randomized PCA for efficiency. It uses stochastic SVD.\n",
    "estimator = decomposition.RandomizedPCA(n_components=n_components, whiten=True)\n",
    "estimator.fit(data)"
   ]
  },
  {
   "cell_type": "code",
   "execution_count": 73,
   "metadata": {
    "collapsed": true
   },
   "outputs": [],
   "source": [
    "def plot_gallery(title, images, n_col=3, n_row=5):\n",
    "    \"\"\"\n",
    "    Helper function to plot images.\n",
    "    \"\"\"\n",
    "    image_shape = (64, 64)\n",
    "\n",
    "    plt.figure(figsize=(2. * n_col, 2.26 * n_row))\n",
    "    plt.suptitle(title, size=16)\n",
    "    \n",
    "    for i, comp in enumerate(images):\n",
    "        plt.subplot(n_row, n_col, i + 1)\n",
    "        vmax = max(comp.max(), -comp.min())\n",
    "        plt.imshow(comp.reshape(image_shape), cmap=plt.cm.gray,\n",
    "                   interpolation='nearest',\n",
    "                   vmin=-vmax, vmax=vmax)\n",
    "        plt.xticks([])\n",
    "        plt.yticks([])\n",
    "    plt.subplots_adjust(0.01, 0.05, 0.99, 0.93, 0.04, 0.)"
   ]
  },
  {
   "cell_type": "code",
   "execution_count": 74,
   "metadata": {
    "collapsed": false,
    "scrolled": true
   },
   "outputs": [
    {
     "data": {
      "image/png": "[encoded data removed]",
      "text/plain": [
       "<matplotlib.figure.Figure at 0x101d02e10>"
      ]
     },
     "metadata": {},
     "output_type": "display_data"
    }
   ],
   "source": [
    "plot_gallery('PCA', estimator.components_[:n_components])"
   ]
  },
  {
   "cell_type": "markdown",
   "metadata": {},
   "source": [
    "## Fit"
   ]
  },
  {
   "cell_type": "code",
   "execution_count": 75,
   "metadata": {
    "collapsed": false
   },
   "outputs": [],
   "source": [
    "I_train_pca = estimator.transform(faces_centered)\n",
    "I_test_pca = estimator.transform(center(I_test))"
   ]
  }
 ],
 "metadata": {
  "kernelspec": {
   "display_name": "Python 2",
   "language": "python",
   "name": "python2"
  },
  "language_info": {
   "codemirror_mode": {
    "name": "ipython",
    "version": 2
   },
   "file_extension": ".py",
   "mimetype": "text/x-python",
   "name": "python",
   "nbconvert_exporter": "python",
   "pygments_lexer": "ipython2",
   "version": "2.7.11"
  }
 },
 "nbformat": 4,
 "nbformat_minor": 0
}
