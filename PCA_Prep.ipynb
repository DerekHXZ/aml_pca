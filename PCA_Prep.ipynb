{
 "cells": [
  {
   "cell_type": "code",
   "execution_count": 1,
   "metadata": {
    "collapsed": false
   },
   "outputs": [],
   "source": [
    "import cv2\n",
    "import os\n",
    "import numpy as np"
   ]
  },
  {
   "cell_type": "code",
   "execution_count": 2,
   "metadata": {
    "collapsed": false
   },
   "outputs": [],
   "source": [
    "dirname = 'lfwcrop_grey_sample/'\n",
    "filenames = os.listdir(dirname)"
   ]
  },
  {
   "cell_type": "code",
   "execution_count": 3,
   "metadata": {
    "collapsed": false
   },
   "outputs": [],
   "source": [
    "def load_imgs(dirname, filenames):\n",
    "    imgs = []\n",
    "    target_names = []\n",
    "    print len(filenames)\n",
    "    for fname in filenames:\n",
    "        if fname.endswith('.pgm'):\n",
    "            im = cv2.imread(dirname + fname)\n",
    "            im = cv2.cvtColor(im, cv2.COLOR_BGR2GRAY)\n",
    "            # print im.shape\n",
    "            im = np.reshape(im, 64 * 64)\n",
    "            imgs.append(im)\n",
    "            target_names.append(' '.join(fname.split('_')[:-1]))\n",
    "    imgs = np.stack(imgs, axis = 0)\n",
    "    print imgs.size\n",
    "    return imgs, target_names"
   ]
  },
  {
   "cell_type": "code",
   "execution_count": 4,
   "metadata": {
    "collapsed": false
   },
   "outputs": [
    {
     "name": "stdout",
     "output_type": "stream",
     "text": [
      "7606\n",
      "31154176\n"
     ]
    }
   ],
   "source": [
    "from sklearn.cross_validation import train_test_split\n",
    "from random import shuffle\n",
    "\n",
    "shuffle(filenames)\n",
    "\n",
    "X, target_names = load_imgs(dirname, filenames)\n",
    "\n",
    "class Counting(object):\n",
    "    n = 0\n",
    "    def factory():\n",
    "        Counting.n += 1\n",
    "        return Counting.n\n",
    "    factory = staticmethod(factory)\n",
    "\n",
    "from collections import defaultdict\n",
    "names_id = defaultdict(Counting.factory)\n",
    "\n",
    "y = [names_id[t] for t in target_names] "
   ]
  },
  {
   "cell_type": "code",
   "execution_count": 5,
   "metadata": {
    "collapsed": false
   },
   "outputs": [
    {
     "data": {
      "text/plain": [
       "7606"
      ]
     },
     "execution_count": 5,
     "metadata": {},
     "output_type": "execute_result"
    }
   ],
   "source": [
    "len(target_names)"
   ]
  },
  {
   "cell_type": "code",
   "execution_count": 20,
   "metadata": {
    "collapsed": false
   },
   "outputs": [
    {
     "name": "stdout",
     "output_type": "stream",
     "text": [
      "7606\n",
      "31154176\n"
     ]
    }
   ],
   "source": [
    "#X_train, X_test, y_train, y_test = train_test_split(filenames, y, test_size=0.2)\n",
    "#y_train = load_imgs(dirname, X_train)\n",
    "#y_test = load_imgs(dirname, X_test)\n"
   ]
  },
  {
   "cell_type": "markdown",
   "metadata": {},
   "source": [
    "# PCA"
   ]
  },
  {
   "cell_type": "code",
   "execution_count": 6,
   "metadata": {
    "collapsed": false
   },
   "outputs": [],
   "source": [
    "from sklearn.decomposition import PCA\n",
    "import numpy as np"
   ]
  },
  {
   "cell_type": "code",
   "execution_count": 7,
   "metadata": {
    "collapsed": true
   },
   "outputs": [],
   "source": [
    "def center(faces):\n",
    "    n_samples, n_features = faces.shape\n",
    "    # Center the faces\n",
    "    faces_centered = faces - faces.mean(axis=0)\n",
    "    faces_centered -= faces_centered.mean(axis=1).reshape(n_samples, -1)\n",
    "    return faces_centered\n",
    "\n",
    "faces_centered = center(X)"
   ]
  },
  {
   "cell_type": "code",
   "execution_count": 11,
   "metadata": {
    "collapsed": true
   },
   "outputs": [],
   "source": [
    "n_components = 150"
   ]
  },
  {
   "cell_type": "code",
   "execution_count": 12,
   "metadata": {
    "collapsed": true
   },
   "outputs": [],
   "source": [
    "from sklearn import decomposition\n",
    "from time import time"
   ]
  },
  {
   "cell_type": "code",
   "execution_count": 13,
   "metadata": {
    "collapsed": false
   },
   "outputs": [
    {
     "name": "stdout",
     "output_type": "stream",
     "text": [
      "Extracting the top 150 eigenfaces from 7606 faces\n",
      "done in 2.040s\n",
      "Projecting the input data on the eigenfaces orthonormal basis\n",
      "done in 0.334s\n",
      "(7606, 150)\n",
      "[[ 5.8567939   0.16690285  1.04884043 ..., -0.76495653  1.1846018\n",
      "  -0.47364922]\n",
      " [ 5.72912698  0.10210857  2.77405136 ..., -0.69152252  0.38172012\n",
      "  -0.26452762]\n",
      " [ 5.83938851  0.10462778  1.55223946 ...,  0.82302809 -0.42707468\n",
      "   1.19394587]\n",
      " ..., \n",
      " [ 5.86341945 -0.84305815  1.17425937 ..., -2.18073399  0.32904926\n",
      "  -0.3978569 ]\n",
      " [ 5.71484353  1.19164204  3.12452724 ...,  1.22536156 -0.52958635\n",
      "   0.57424227]\n",
      " [ 5.81759071 -0.46013476  1.86819473 ..., -0.41502462  0.5434003\n",
      "   0.89106038]]\n"
     ]
    }
   ],
   "source": [
    "from sklearn.decomposition import RandomizedPCA\n",
    "\n",
    "# We use a variant of PCA called Randomized PCA for efficiency. It uses stochastic SVD.\n",
    "print(\"Extracting the top %d eigenfaces from %d faces\" % (n_components, X.shape[0]))\n",
    "t0 = time()\n",
    "pca = RandomizedPCA(n_components=n_components, whiten=True).fit(X)\n",
    "print(\"done in %0.3fs\" % (time() - t0))\n",
    "\n",
    "eigenfaces = pca.components_.reshape((n_components, 64, 64))\n",
    "\n",
    "print(\"Projecting the input data on the eigenfaces orthonormal basis\")\n",
    "t0 = time()\n",
    "X_pca = pca.transform(faces_centered)\n",
    "print(\"done in %0.3fs\" % (time() - t0))\n",
    "print(X_pca.shape)\n",
    "print(X_pca)"
   ]
  },
  {
   "cell_type": "code",
   "execution_count": 14,
   "metadata": {
    "collapsed": true
   },
   "outputs": [],
   "source": [
    "import cPickle\n",
    "\n",
    "with open(\"pca_images.pkl\", \"wb\") as f:\n",
    "    cPickle.dump(X_pca, f)\n",
    "    \n",
    "with open(\"pca_person_id.pkl\", \"wb\") as f:\n",
    "    cPickle.dump(y, f)"
   ]
  },
  {
   "cell_type": "code",
   "execution_count": 15,
   "metadata": {
    "collapsed": false
   },
   "outputs": [],
   "source": [
    "\n",
    "with open(\"pca_filenames.pkl\", \"wb\") as fx:\n",
    "    cPickle.dump([f for f in filenames if f.endswith('.pgm')], fx)\n",
    "    \n",
    "    \n",
    "with open(\"pca_person_names.pkl\", \"wb\") as fx:\n",
    "    cPickle.dump(target_names, fx)"
   ]
  },
  {
   "cell_type": "code",
   "execution_count": 26,
   "metadata": {
    "collapsed": false
   },
   "outputs": [
    {
     "data": {
      "text/plain": [
       "KNeighborsClassifier(algorithm='auto', leaf_size=30, metric='minkowski',\n",
       "           metric_params=None, n_jobs=1, n_neighbors=3, p=2,\n",
       "           weights='uniform')"
      ]
     },
     "execution_count": 26,
     "metadata": {},
     "output_type": "execute_result"
    }
   ],
   "source": [
    "from sklearn.neighbors import KNeighborsClassifier\n",
    "\n",
    "model = KNeighborsClassifier(n_neighbors=3)\n",
    "model.fit(X_pca, y) "
   ]
  },
  {
   "cell_type": "code",
   "execution_count": 35,
   "metadata": {
    "collapsed": false
   },
   "outputs": [
    {
     "name": "stdout",
     "output_type": "stream",
     "text": [
      "Hugo Chavez\n",
      "Bill Clinton\n",
      "George W Bush\n"
     ]
    }
   ],
   "source": [
    "im = cv2.imread(\"fun.jpg\")\n",
    "im = cv2.cvtColor(im, cv2.COLOR_BGR2GRAY)\n",
    "im = cv2.resize(im, (64, 64))\n",
    "im = np.reshape(im, 64 * 64)\n",
    "\n",
    "imp = pca.transform([im])\n",
    "_, idx = model.kneighbors(imp)\n",
    "\n",
    "for i in idx[0]:\n",
    "    print target_names[i]\n",
    "    "
   ]
  },
  {
   "cell_type": "code",
   "execution_count": 42,
   "metadata": {
    "collapsed": false
   },
   "outputs": [
    {
     "data": {
      "text/plain": [
       "array([[ 100, 7454, 5047]])"
      ]
     },
     "execution_count": 42,
     "metadata": {},
     "output_type": "execute_result"
    }
   ],
   "source": [
    "# Sanity\n",
    "_, idx = model.kneighbors([X_pca[100]])\n",
    "idx"
   ]
  },
  {
   "cell_type": "code",
   "execution_count": null,
   "metadata": {
    "collapsed": true
   },
   "outputs": [],
   "source": []
  }
 ],
 "metadata": {
  "kernelspec": {
   "display_name": "Python 2",
   "language": "python",
   "name": "python2"
  },
  "language_info": {
   "codemirror_mode": {
    "name": "ipython",
    "version": 2
   },
   "file_extension": ".py",
   "mimetype": "text/x-python",
   "name": "python",
   "nbconvert_exporter": "python",
   "pygments_lexer": "ipython2",
   "version": "2.7.11"
  }
 },
 "nbformat": 4,
 "nbformat_minor": 0
}
